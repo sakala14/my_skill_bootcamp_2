{
 "cells": [
  {
   "cell_type": "markdown",
   "id": "815151bf",
   "metadata": {},
   "source": [
    "<html>\n",
    "    <head>\n",
    "        <title>Judul</title>\n",
    "    </head>\n",
    "    <body>\n",
    "        <h1>My First Heading</h1>\n",
    "        <h2>My First Heading</h2>\n",
    "        <h3>My First Heading</h3>\n",
    "        <h4>My First Heading</h4>\n",
    "        <h5>My First Heading</h5>\n",
    "        <h6>My First Paragraph</h6>\n",
    "        <p> PARAGRAF PERTAMA </p>\n",
    "        <p> \n",
    "        Lorem Ipsum is simply dummy text of the printing and typesetting industry. Lorem Ipsum has been the industry's standard dummy text ever since the 1500s, when an unknown printer took a galley of type and scrambled it to make a type specimen book. It has survived not only five centuries, but also the leap into electronic typesetting, remaining essentially unchanged. It was popularised in the 1960s with the release of Letraset sheets containing Lorem Ipsum passages, and more recently with desktop publishing software like Aldus PageMaker including versions of Lorem Ipsum. </p>\n",
    "        <br/>\n",
    "        <br/>\n",
    "        <a href=\"https://github.com/\">Ini website Github<a/>\n",
    "            <br/>\n",
    "            <br/>\n",
    "            <div>underscore</div>\n",
    "            <br/>\n",
    "            <img src=\"peco.png\" alt=\"peco\" width=\"250\" height=\"180\">\n",
    "        <br/>\n",
    "            <ul>\n",
    "                <li>Muzza</li>\n",
    "                <li>Endah</li>\n",
    "                <li>Rahma</li>\n",
    "             <ul/>\n",
    "         <br/>\n",
    "             <ol>\n",
    "                <li>Muzza</li>\n",
    "                <li>Endah</li>\n",
    "                <li>Rahma</li>\n",
    "             <ol/>\n",
    "</body>\n",
    "</html>\n",
    "        "
   ]
  },
  {
   "cell_type": "code",
   "execution_count": null,
   "id": "f9ec3a34",
   "metadata": {},
   "outputs": [],
   "source": []
  }
 ],
 "metadata": {
  "kernelspec": {
   "display_name": "Python 3 (ipykernel)",
   "language": "python",
   "name": "python3"
  },
  "language_info": {
   "codemirror_mode": {
    "name": "ipython",
    "version": 3
   },
   "file_extension": ".py",
   "mimetype": "text/x-python",
   "name": "python",
   "nbconvert_exporter": "python",
   "pygments_lexer": "ipython3",
   "version": "3.8.12"
  }
 },
 "nbformat": 4,
 "nbformat_minor": 5
}
